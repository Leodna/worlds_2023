{
 "cells": [
  {
   "cell_type": "code",
   "execution_count": 1,
   "metadata": {},
   "outputs": [],
   "source": [
    "from mwclient import Site\n",
    "from mwrogue.esports_client import EsportsClient\n",
    "import pandas as pd"
   ]
  },
  {
   "cell_type": "code",
   "execution_count": 2,
   "metadata": {},
   "outputs": [],
   "source": [
    "#site = Site('lol.fandom.com',path='/')\n",
    "site = EsportsClient(\"lol\")"
   ]
  },
  {
   "cell_type": "code",
   "execution_count": 3,
   "metadata": {},
   "outputs": [],
   "source": [
    "response = site.cargo_client.query(\n",
    "    tables=\"TournamentRosters=Tr,Tournaments=T,Teams=Tm\",    \n",
    "    fields=\"T.Year,Tr.Team,Tm.Region,T.Name,T.OverviewPage,Tr.PageAndTeam\",\n",
    "    join_on=\"Tr.OverviewPage=T.OverviewPage, Tr.Team=Tm.Name\",\n",
    "    where='T.League like \"World Championship\" and T.Region = \"International\" and T.Date >= \"2017-01-01\"',\n",
    "    order_by=\"T.Name,T.OverviewPage,Tr.Team\"\n",
    ")"
   ]
  },
  {
   "cell_type": "code",
   "execution_count": 4,
   "metadata": {},
   "outputs": [
    {
     "name": "stdout",
     "output_type": "stream",
     "text": [
      "[OrderedDict([('Year', '2017'), ('Team', 'ahq eSports Club'), ('Region', 'PCS'), ('Name', 'Worlds 2017 Main Event'), ('OverviewPage', '2017 Season World Championship/Main Event'), ('PageAndTeam', '2017 Season World Championship/Main Event_ahq eSports Club')]), OrderedDict([('Year', '2017'), ('Team', 'Cloud9'), ('Region', 'North America'), ('Name', 'Worlds 2017 Main Event'), ('OverviewPage', '2017 Season World Championship/Main Event'), ('PageAndTeam', '2017 Season World Championship/Main Event_Cloud9')]), OrderedDict([('Year', '2017'), ('Team', 'EDward Gaming'), ('Region', 'China'), ('Name', 'Worlds 2017 Main Event'), ('OverviewPage', '2017 Season World Championship/Main Event'), ('PageAndTeam', '2017 Season World Championship/Main Event_EDward Gaming')]), OrderedDict([('Year', '2017'), ('Team', 'Fenerbahçe Esports'), ('Region', 'Turkey'), ('Name', 'Worlds 2017 Main Event'), ('OverviewPage', '2017 Season World Championship/Main Event'), ('PageAndTeam', '2017 Season World Championship/Main Event_Fenerbahçe Esports')]), OrderedDict([('Year', '2017'), ('Team', 'Flash Wolves'), ('Region', 'LMS'), ('Name', 'Worlds 2017 Main Event'), ('OverviewPage', '2017 Season World Championship/Main Event'), ('PageAndTeam', '2017 Season World Championship/Main Event_Flash Wolves')]), OrderedDict([('Year', '2017'), ('Team', 'Fnatic'), ('Region', 'EMEA'), ('Name', 'Worlds 2017 Main Event'), ('OverviewPage', '2017 Season World Championship/Main Event'), ('PageAndTeam', '2017 Season World Championship/Main Event_Fnatic')]), OrderedDict([('Year', '2017'), ('Team', 'G2 Esports'), ('Region', 'EMEA'), ('Name', 'Worlds 2017 Main Event'), ('OverviewPage', '2017 Season World Championship/Main Event'), ('PageAndTeam', '2017 Season World Championship/Main Event_G2 Esports')]), OrderedDict([('Year', '2017'), ('Team', 'GIGABYTE Marines'), ('Region', None), ('Name', 'Worlds 2017 Main Event'), ('OverviewPage', '2017 Season World Championship/Main Event'), ('PageAndTeam', '2017 Season World Championship/Main Event_GIGABYTE Marines')]), OrderedDict([('Year', '2017'), ('Team', 'Immortals'), ('Region', 'North America'), ('Name', 'Worlds 2017 Main Event'), ('OverviewPage', '2017 Season World Championship/Main Event'), ('PageAndTeam', '2017 Season World Championship/Main Event_Immortals')]), OrderedDict([('Year', '2017'), ('Team', 'Longzhu Gaming'), ('Region', 'Korea'), ('Name', 'Worlds 2017 Main Event'), ('OverviewPage', '2017 Season World Championship/Main Event'), ('PageAndTeam', '2017 Season World Championship/Main Event_Longzhu Gaming')]), OrderedDict([('Year', '2017'), ('Team', 'Misfits Gaming'), ('Region', 'Europe'), ('Name', 'Worlds 2017 Main Event'), ('OverviewPage', '2017 Season World Championship/Main Event'), ('PageAndTeam', '2017 Season World Championship/Main Event_Misfits Gaming')]), OrderedDict([('Year', '2017'), ('Team', 'Royal Never Give Up'), ('Region', 'China'), ('Name', 'Worlds 2017 Main Event'), ('OverviewPage', '2017 Season World Championship/Main Event'), ('PageAndTeam', '2017 Season World Championship/Main Event_Royal Never Give Up')]), OrderedDict([('Year', '2017'), ('Team', 'Samsung Galaxy'), ('Region', 'Korea'), ('Name', 'Worlds 2017 Main Event'), ('OverviewPage', '2017 Season World Championship/Main Event'), ('PageAndTeam', '2017 Season World Championship/Main Event_Samsung Galaxy')]), OrderedDict([('Year', '2017'), ('Team', 'SK Telecom T1'), ('Region', 'Korea'), ('Name', 'Worlds 2017 Main Event'), ('OverviewPage', '2017 Season World Championship/Main Event'), ('PageAndTeam', '2017 Season World Championship/Main Event_SK Telecom T1')]), OrderedDict([('Year', '2017'), ('Team', 'Team WE'), ('Region', 'China'), ('Name', 'Worlds 2017 Main Event'), ('OverviewPage', '2017 Season World Championship/Main Event'), ('PageAndTeam', '2017 Season World Championship/Main Event_Team WE')]), OrderedDict([('Year', '2017'), ('Team', 'TSM'), ('Region', 'North America'), ('Name', 'Worlds 2017 Main Event'), ('OverviewPage', '2017 Season World Championship/Main Event'), ('PageAndTeam', '2017 Season World Championship/Main Event_TSM')]), OrderedDict([('Year', '2017'), ('Team', 'Cloud9'), ('Region', 'North America'), ('Name', 'Worlds 2017 Play-In'), ('OverviewPage', '2017 Season World Championship/Play-In'), ('PageAndTeam', '2017 Season World Championship/Play-In_Cloud9')]), OrderedDict([('Year', '2017'), ('Team', 'Dire Wolves'), ('Region', 'PCS'), ('Name', 'Worlds 2017 Play-In'), ('OverviewPage', '2017 Season World Championship/Play-In'), ('PageAndTeam', '2017 Season World Championship/Play-In_Dire Wolves')]), OrderedDict([('Year', '2017'), ('Team', 'Fenerbahçe Esports'), ('Region', 'Turkey'), ('Name', 'Worlds 2017 Play-In'), ('OverviewPage', '2017 Season World Championship/Play-In'), ('PageAndTeam', '2017 Season World Championship/Play-In_Fenerbahçe Esports')]), OrderedDict([('Year', '2017'), ('Team', 'Fnatic'), ('Region', 'EMEA'), ('Name', 'Worlds 2017 Play-In'), ('OverviewPage', '2017 Season World Championship/Play-In'), ('PageAndTeam', '2017 Season World Championship/Play-In_Fnatic')]), OrderedDict([('Year', '2017'), ('Team', 'Gambit Esports'), ('Region', 'CIS'), ('Name', 'Worlds 2017 Play-In'), ('OverviewPage', '2017 Season World Championship/Play-In'), ('PageAndTeam', '2017 Season World Championship/Play-In_Gambit Esports')]), OrderedDict([('Year', '2017'), ('Team', 'Hong Kong Attitude'), ('Region', 'PCS'), ('Name', 'Worlds 2017 Play-In'), ('OverviewPage', '2017 Season World Championship/Play-In'), ('PageAndTeam', '2017 Season World Championship/Play-In_Hong Kong Attitude')]), OrderedDict([('Year', '2017'), ('Team', 'Kaos Latin Gamers'), ('Region', 'Latin America'), ('Name', 'Worlds 2017 Play-In'), ('OverviewPage', '2017 Season World Championship/Play-In'), ('PageAndTeam', '2017 Season World Championship/Play-In_Kaos Latin Gamers')]), OrderedDict([('Year', '2017'), ('Team', 'Lyon Gaming (2013 Latin American Team)'), ('Region', None), ('Name', 'Worlds 2017 Play-In'), ('OverviewPage', '2017 Season World Championship/Play-In'), ('PageAndTeam', '2017 Season World Championship/Play-In_Lyon Gaming (2013 Latin American Team)')]), OrderedDict([('Year', '2017'), ('Team', 'Rampage'), ('Region', 'Japan'), ('Name', 'Worlds 2017 Play-In'), ('OverviewPage', '2017 Season World Championship/Play-In'), ('PageAndTeam', '2017 Season World Championship/Play-In_Rampage')]), OrderedDict([('Year', '2017'), ('Team', 'Team oNe eSports'), ('Region', 'Brazil'), ('Name', 'Worlds 2017 Play-In'), ('OverviewPage', '2017 Season World Championship/Play-In'), ('PageAndTeam', '2017 Season World Championship/Play-In_Team oNe eSports')]), OrderedDict([('Year', '2017'), ('Team', 'Team WE'), ('Region', 'China'), ('Name', 'Worlds 2017 Play-In'), ('OverviewPage', '2017 Season World Championship/Play-In'), ('PageAndTeam', '2017 Season World Championship/Play-In_Team WE')]), OrderedDict([('Year', '2017'), ('Team', 'Young Generation'), ('Region', 'Vietnam'), ('Name', 'Worlds 2017 Play-In'), ('OverviewPage', '2017 Season World Championship/Play-In'), ('PageAndTeam', '2017 Season World Championship/Play-In_Young Generation')]), OrderedDict([('Year', '2018'), ('Team', '100 Thieves'), ('Region', 'North America'), ('Name', 'Worlds 2018 Main Event'), ('OverviewPage', '2018 Season World Championship/Main Event'), ('PageAndTeam', '2018 Season World Championship/Main Event_100 Thieves')]), OrderedDict([('Year', '2018'), ('Team', 'Afreeca Freecs'), ('Region', None), ('Name', 'Worlds 2018 Main Event'), ('OverviewPage', '2018 Season World Championship/Main Event'), ('PageAndTeam', '2018 Season World Championship/Main Event_Afreeca Freecs')]), OrderedDict([('Year', '2018'), ('Team', 'Cloud9'), ('Region', 'North America'), ('Name', 'Worlds 2018 Main Event'), ('OverviewPage', '2018 Season World Championship/Main Event'), ('PageAndTeam', '2018 Season World Championship/Main Event_Cloud9')]), OrderedDict([('Year', '2018'), ('Team', 'EDward Gaming'), ('Region', 'China'), ('Name', 'Worlds 2018 Main Event'), ('OverviewPage', '2018 Season World Championship/Main Event'), ('PageAndTeam', '2018 Season World Championship/Main Event_EDward Gaming')]), OrderedDict([('Year', '2018'), ('Team', 'Flash Wolves'), ('Region', 'LMS'), ('Name', 'Worlds 2018 Main Event'), ('OverviewPage', '2018 Season World Championship/Main Event'), ('PageAndTeam', '2018 Season World Championship/Main Event_Flash Wolves')]), OrderedDict([('Year', '2018'), ('Team', 'Fnatic'), ('Region', 'EMEA'), ('Name', 'Worlds 2018 Main Event'), ('OverviewPage', '2018 Season World Championship/Main Event'), ('PageAndTeam', '2018 Season World Championship/Main Event_Fnatic')]), OrderedDict([('Year', '2018'), ('Team', 'G-Rex'), ('Region', 'PCS'), ('Name', 'Worlds 2018 Main Event'), ('OverviewPage', '2018 Season World Championship/Main Event'), ('PageAndTeam', '2018 Season World Championship/Main Event_G-Rex')]), OrderedDict([('Year', '2018'), ('Team', 'G2 Esports'), ('Region', 'EMEA'), ('Name', 'Worlds 2018 Main Event'), ('OverviewPage', '2018 Season World Championship/Main Event'), ('PageAndTeam', '2018 Season World Championship/Main Event_G2 Esports')]), OrderedDict([('Year', '2018'), ('Team', 'Gen.G'), ('Region', 'Korea'), ('Name', 'Worlds 2018 Main Event'), ('OverviewPage', '2018 Season World Championship/Main Event'), ('PageAndTeam', '2018 Season World Championship/Main Event_Gen.G')]), OrderedDict([('Year', '2018'), ('Team', 'Invictus Gaming'), ('Region', 'China'), ('Name', 'Worlds 2018 Main Event'), ('OverviewPage', '2018 Season World Championship/Main Event'), ('PageAndTeam', '2018 Season World Championship/Main Event_Invictus Gaming')]), OrderedDict([('Year', '2018'), ('Team', 'KT Rolster'), ('Region', 'Korea'), ('Name', 'Worlds 2018 Main Event'), ('OverviewPage', '2018 Season World Championship/Main Event'), ('PageAndTeam', '2018 Season World Championship/Main Event_KT Rolster')]), OrderedDict([('Year', '2018'), ('Team', 'MAD Team'), ('Region', 'LMS'), ('Name', 'Worlds 2018 Main Event'), ('OverviewPage', '2018 Season World Championship/Main Event'), ('PageAndTeam', '2018 Season World Championship/Main Event_MAD Team')]), OrderedDict([('Year', '2018'), ('Team', 'Phong Vũ Buffalo'), ('Region', 'Vietnam'), ('Name', 'Worlds 2018 Main Event'), ('OverviewPage', '2018 Season World Championship/Main Event'), ('PageAndTeam', '2018 Season World Championship/Main Event_Phong Vũ Buffalo')]), OrderedDict([('Year', '2018'), ('Team', 'Royal Never Give Up'), ('Region', 'China'), ('Name', 'Worlds 2018 Main Event'), ('OverviewPage', '2018 Season World Championship/Main Event'), ('PageAndTeam', '2018 Season World Championship/Main Event_Royal Never Give Up')]), OrderedDict([('Year', '2018'), ('Team', 'Team Liquid'), ('Region', 'North America'), ('Name', 'Worlds 2018 Main Event'), ('OverviewPage', '2018 Season World Championship/Main Event'), ('PageAndTeam', '2018 Season World Championship/Main Event_Team Liquid')]), OrderedDict([('Year', '2018'), ('Team', 'Team Vitality'), ('Region', 'EMEA'), ('Name', 'Worlds 2018 Main Event'), ('OverviewPage', '2018 Season World Championship/Main Event'), ('PageAndTeam', '2018 Season World Championship/Main Event_Team Vitality')]), OrderedDict([('Year', '2018'), ('Team', 'Ascension Gaming'), ('Region', 'SEA'), ('Name', 'Worlds 2018 Play-In'), ('OverviewPage', '2018 Season World Championship/Play-In'), ('PageAndTeam', '2018 Season World Championship/Play-In_Ascension Gaming')]), OrderedDict([('Year', '2018'), ('Team', 'Cloud9'), ('Region', 'North America'), ('Name', 'Worlds 2018 Play-In'), ('OverviewPage', '2018 Season World Championship/Play-In'), ('PageAndTeam', '2018 Season World Championship/Play-In_Cloud9')]), OrderedDict([('Year', '2018'), ('Team', 'DetonatioN FocusMe'), ('Region', 'Japan'), ('Name', 'Worlds 2018 Play-In'), ('OverviewPage', '2018 Season World Championship/Play-In'), ('PageAndTeam', '2018 Season World Championship/Play-In_DetonatioN FocusMe')]), OrderedDict([('Year', '2018'), ('Team', 'Dire Wolves'), ('Region', 'PCS'), ('Name', 'Worlds 2018 Play-In'), ('OverviewPage', '2018 Season World Championship/Play-In'), ('PageAndTeam', '2018 Season World Championship/Play-In_Dire Wolves')]), OrderedDict([('Year', '2018'), ('Team', 'EDward Gaming'), ('Region', 'China'), ('Name', 'Worlds 2018 Play-In'), ('OverviewPage', '2018 Season World Championship/Play-In'), ('PageAndTeam', '2018 Season World Championship/Play-In_EDward Gaming')]), OrderedDict([('Year', '2018'), ('Team', 'G-Rex'), ('Region', 'PCS'), ('Name', 'Worlds 2018 Play-In'), ('OverviewPage', '2018 Season World Championship/Play-In'), ('PageAndTeam', '2018 Season World Championship/Play-In_G-Rex')]), OrderedDict([('Year', '2018'), ('Team', 'G2 Esports'), ('Region', 'EMEA'), ('Name', 'Worlds 2018 Play-In'), ('OverviewPage', '2018 Season World Championship/Play-In'), ('PageAndTeam', '2018 Season World Championship/Play-In_G2 Esports')]), OrderedDict([('Year', '2018'), ('Team', 'Gambit Esports'), ('Region', 'CIS'), ('Name', 'Worlds 2018 Play-In'), ('OverviewPage', '2018 Season World Championship/Play-In'), ('PageAndTeam', '2018 Season World Championship/Play-In_Gambit Esports')]), OrderedDict([('Year', '2018'), ('Team', 'INFINITY'), ('Region', 'Latin America'), ('Name', 'Worlds 2018 Play-In'), ('OverviewPage', '2018 Season World Championship/Play-In'), ('PageAndTeam', '2018 Season World Championship/Play-In_INFINITY')]), OrderedDict([('Year', '2018'), ('Team', 'KaBuM! Esports'), ('Region', 'Brazil'), ('Name', 'Worlds 2018 Play-In'), ('OverviewPage', '2018 Season World Championship/Play-In'), ('PageAndTeam', '2018 Season World Championship/Play-In_KaBuM! Esports')]), OrderedDict([('Year', '2018'), ('Team', 'Kaos Latin Gamers'), ('Region', 'Latin America'), ('Name', 'Worlds 2018 Play-In'), ('OverviewPage', '2018 Season World Championship/Play-In'), ('PageAndTeam', '2018 Season World Championship/Play-In_Kaos Latin Gamers')]), OrderedDict([('Year', '2018'), ('Team', 'SuperMassive Esports'), ('Region', None), ('Name', 'Worlds 2018 Play-In'), ('OverviewPage', '2018 Season World Championship/Play-In'), ('PageAndTeam', '2018 Season World Championship/Play-In_SuperMassive Esports')]), OrderedDict([('Year', '2019'), ('Team', 'ahq eSports Club'), ('Region', 'PCS'), ('Name', 'Worlds 2019 Main Event'), ('OverviewPage', '2019 Season World Championship/Main Event'), ('PageAndTeam', '2019 Season World Championship/Main Event_ahq eSports Club')]), OrderedDict([('Year', '2019'), ('Team', 'Cloud9'), ('Region', 'North America'), ('Name', 'Worlds 2019 Main Event'), ('OverviewPage', '2019 Season World Championship/Main Event'), ('PageAndTeam', '2019 Season World Championship/Main Event_Cloud9')]), OrderedDict([('Year', '2019'), ('Team', 'Clutch Gaming'), ('Region', 'North America'), ('Name', 'Worlds 2019 Main Event'), ('OverviewPage', '2019 Season World Championship/Main Event'), ('PageAndTeam', '2019 Season World Championship/Main Event_Clutch Gaming')]), OrderedDict([('Year', '2019'), ('Team', 'DAMWON Gaming'), ('Region', None), ('Name', 'Worlds 2019 Main Event'), ('OverviewPage', '2019 Season World Championship/Main Event'), ('PageAndTeam', '2019 Season World Championship/Main Event_DAMWON Gaming')]), OrderedDict([('Year', '2019'), ('Team', 'Fnatic'), ('Region', 'EMEA'), ('Name', 'Worlds 2019 Main Event'), ('OverviewPage', '2019 Season World Championship/Main Event'), ('PageAndTeam', '2019 Season World Championship/Main Event_Fnatic')]), OrderedDict([('Year', '2019'), ('Team', 'FunPlus Phoenix'), ('Region', 'China'), ('Name', 'Worlds 2019 Main Event'), ('OverviewPage', '2019 Season World Championship/Main Event'), ('PageAndTeam', '2019 Season World Championship/Main Event_FunPlus Phoenix')]), OrderedDict([('Year', '2019'), ('Team', 'G2 Esports'), ('Region', 'EMEA'), ('Name', 'Worlds 2019 Main Event'), ('OverviewPage', '2019 Season World Championship/Main Event'), ('PageAndTeam', '2019 Season World Championship/Main Event_G2 Esports')]), OrderedDict([('Year', '2019'), ('Team', 'GAM Esports'), ('Region', 'Vietnam'), ('Name', 'Worlds 2019 Main Event'), ('OverviewPage', '2019 Season World Championship/Main Event'), ('PageAndTeam', '2019 Season World Championship/Main Event_GAM Esports')]), OrderedDict([('Year', '2019'), ('Team', 'Griffin (Korean Team)'), ('Region', None), ('Name', 'Worlds 2019 Main Event'), ('OverviewPage', '2019 Season World Championship/Main Event'), ('PageAndTeam', '2019 Season World Championship/Main Event_Griffin (Korean Team)')]), OrderedDict([('Year', '2019'), ('Team', 'Hong Kong Attitude'), ('Region', 'PCS'), ('Name', 'Worlds 2019 Main Event'), ('OverviewPage', '2019 Season World Championship/Main Event'), ('PageAndTeam', '2019 Season World Championship/Main Event_Hong Kong Attitude')]), OrderedDict([('Year', '2019'), ('Team', 'Invictus Gaming'), ('Region', 'China'), ('Name', 'Worlds 2019 Main Event'), ('OverviewPage', '2019 Season World Championship/Main Event'), ('PageAndTeam', '2019 Season World Championship/Main Event_Invictus Gaming')]), OrderedDict([('Year', '2019'), ('Team', 'J Team'), ('Region', 'PCS'), ('Name', 'Worlds 2019 Main Event'), ('OverviewPage', '2019 Season World Championship/Main Event'), ('PageAndTeam', '2019 Season World Championship/Main Event_J Team')]), OrderedDict([('Year', '2019'), ('Team', 'Royal Never Give Up'), ('Region', 'China'), ('Name', 'Worlds 2019 Main Event'), ('OverviewPage', '2019 Season World Championship/Main Event'), ('PageAndTeam', '2019 Season World Championship/Main Event_Royal Never Give Up')]), OrderedDict([('Year', '2019'), ('Team', 'SK Telecom T1'), ('Region', 'Korea'), ('Name', 'Worlds 2019 Main Event'), ('OverviewPage', '2019 Season World Championship/Main Event'), ('PageAndTeam', '2019 Season World Championship/Main Event_SK Telecom T1')]), OrderedDict([('Year', '2019'), ('Team', 'Splyce'), ('Region', 'Europe'), ('Name', 'Worlds 2019 Main Event'), ('OverviewPage', '2019 Season World Championship/Main Event'), ('PageAndTeam', '2019 Season World Championship/Main Event_Splyce')]), OrderedDict([('Year', '2019'), ('Team', 'Team Liquid'), ('Region', 'North America'), ('Name', 'Worlds 2019 Main Event'), ('OverviewPage', '2019 Season World Championship/Main Event'), ('PageAndTeam', '2019 Season World Championship/Main Event_Team Liquid')]), OrderedDict([('Year', '2019'), ('Team', 'Clutch Gaming'), ('Region', 'North America'), ('Name', 'Worlds 2019 Play-In'), ('OverviewPage', '2019 Season World Championship/Play-In'), ('PageAndTeam', '2019 Season World Championship/Play-In_Clutch Gaming')]), OrderedDict([('Year', '2019'), ('Team', 'DAMWON Gaming'), ('Region', None), ('Name', 'Worlds 2019 Play-In'), ('OverviewPage', '2019 Season World Championship/Play-In'), ('PageAndTeam', '2019 Season World Championship/Play-In_DAMWON Gaming')]), OrderedDict([('Year', '2019'), ('Team', 'DetonatioN FocusMe'), ('Region', 'Japan'), ('Name', 'Worlds 2019 Play-In'), ('OverviewPage', '2019 Season World Championship/Play-In'), ('PageAndTeam', '2019 Season World Championship/Play-In_DetonatioN FocusMe')]), OrderedDict([('Year', '2019'), ('Team', 'Flamengo Esports'), ('Region', 'Brazil'), ('Name', 'Worlds 2019 Play-In'), ('OverviewPage', '2019 Season World Championship/Play-In'), ('PageAndTeam', '2019 Season World Championship/Play-In_Flamengo Esports')]), OrderedDict([('Year', '2019'), ('Team', 'Hong Kong Attitude'), ('Region', 'PCS'), ('Name', 'Worlds 2019 Play-In'), ('OverviewPage', '2019 Season World Championship/Play-In'), ('PageAndTeam', '2019 Season World Championship/Play-In_Hong Kong Attitude')]), OrderedDict([('Year', '2019'), ('Team', 'Isurus'), ('Region', 'Latin America'), ('Name', 'Worlds 2019 Play-In'), ('OverviewPage', '2019 Season World Championship/Play-In'), ('PageAndTeam', '2019 Season World Championship/Play-In_Isurus')]), OrderedDict([('Year', '2019'), ('Team', 'Lowkey Esports.Vietnam'), ('Region', 'Vietnam'), ('Name', 'Worlds 2019 Play-In'), ('OverviewPage', '2019 Season World Championship/Play-In'), ('PageAndTeam', '2019 Season World Championship/Play-In_Lowkey Esports.Vietnam')]), OrderedDict([('Year', '2019'), ('Team', 'MAMMOTH'), ('Region', 'PCS'), ('Name', 'Worlds 2019 Play-In'), ('OverviewPage', '2019 Season World Championship/Play-In'), ('PageAndTeam', '2019 Season World Championship/Play-In_MAMMOTH')]), OrderedDict([('Year', '2019'), ('Team', 'MEGA'), ('Region', 'SEA'), ('Name', 'Worlds 2019 Play-In'), ('OverviewPage', '2019 Season World Championship/Play-In'), ('PageAndTeam', '2019 Season World Championship/Play-In_MEGA')]), OrderedDict([('Year', '2019'), ('Team', 'Royal Youth'), ('Region', 'Turkey'), ('Name', 'Worlds 2019 Play-In'), ('OverviewPage', '2019 Season World Championship/Play-In'), ('PageAndTeam', '2019 Season World Championship/Play-In_Royal Youth')]), OrderedDict([('Year', '2019'), ('Team', 'Splyce'), ('Region', 'Europe'), ('Name', 'Worlds 2019 Play-In'), ('OverviewPage', '2019 Season World Championship/Play-In'), ('PageAndTeam', '2019 Season World Championship/Play-In_Splyce')]), OrderedDict([('Year', '2019'), ('Team', 'Unicorns of Love.CIS'), ('Region', 'CIS'), ('Name', 'Worlds 2019 Play-In'), ('OverviewPage', '2019 Season World Championship/Play-In'), ('PageAndTeam', '2019 Season World Championship/Play-In_Unicorns of Love.CIS')]), OrderedDict([('Year', '2020'), ('Team', 'DAMWON Gaming'), ('Region', None), ('Name', 'Worlds 2020 Main Event'), ('OverviewPage', '2020 Season World Championship/Main Event'), ('PageAndTeam', '2020 Season World Championship/Main Event_DAMWON Gaming')]), OrderedDict([('Year', '2020'), ('Team', 'DRX'), ('Region', 'Korea'), ('Name', 'Worlds 2020 Main Event'), ('OverviewPage', '2020 Season World Championship/Main Event'), ('PageAndTeam', '2020 Season World Championship/Main Event_DRX')]), OrderedDict([('Year', '2020'), ('Team', 'FlyQuest'), ('Region', 'North America'), ('Name', 'Worlds 2020 Main Event'), ('OverviewPage', '2020 Season World Championship/Main Event'), ('PageAndTeam', '2020 Season World Championship/Main Event_FlyQuest')]), OrderedDict([('Year', '2020'), ('Team', 'Fnatic'), ('Region', 'EMEA'), ('Name', 'Worlds 2020 Main Event'), ('OverviewPage', '2020 Season World Championship/Main Event'), ('PageAndTeam', '2020 Season World Championship/Main Event_Fnatic')]), OrderedDict([('Year', '2020'), ('Team', 'G2 Esports'), ('Region', 'EMEA'), ('Name', 'Worlds 2020 Main Event'), ('OverviewPage', '2020 Season World Championship/Main Event'), ('PageAndTeam', '2020 Season World Championship/Main Event_G2 Esports')]), OrderedDict([('Year', '2020'), ('Team', 'Gen.G'), ('Region', 'Korea'), ('Name', 'Worlds 2020 Main Event'), ('OverviewPage', '2020 Season World Championship/Main Event'), ('PageAndTeam', '2020 Season World Championship/Main Event_Gen.G')]), OrderedDict([('Year', '2020'), ('Team', 'JD Gaming'), ('Region', 'China'), ('Name', 'Worlds 2020 Main Event'), ('OverviewPage', '2020 Season World Championship/Main Event'), ('PageAndTeam', '2020 Season World Championship/Main Event_JD Gaming')]), OrderedDict([('Year', '2020'), ('Team', 'LGD Gaming'), ('Region', 'China'), ('Name', 'Worlds 2020 Main Event'), ('OverviewPage', '2020 Season World Championship/Main Event'), ('PageAndTeam', '2020 Season World Championship/Main Event_LGD Gaming')]), OrderedDict([('Year', '2020'), ('Team', 'Machi Esports'), ('Region', 'PCS'), ('Name', 'Worlds 2020 Main Event'), ('OverviewPage', '2020 Season World Championship/Main Event'), ('PageAndTeam', '2020 Season World Championship/Main Event_Machi Esports')]), OrderedDict([('Year', '2020'), ('Team', 'PSG Talon'), ('Region', 'PCS'), ('Name', 'Worlds 2020 Main Event'), ('OverviewPage', '2020 Season World Championship/Main Event'), ('PageAndTeam', '2020 Season World Championship/Main Event_PSG Talon')]), OrderedDict([('Year', '2020'), ('Team', 'Rogue (European Team)'), ('Region', None), ('Name', 'Worlds 2020 Main Event'), ('OverviewPage', '2020 Season World Championship/Main Event'), ('PageAndTeam', '2020 Season World Championship/Main Event_Rogue (European Team)')]), OrderedDict([('Year', '2020'), ('Team', 'Suning'), ('Region', 'China'), ('Name', 'Worlds 2020 Main Event'), ('OverviewPage', '2020 Season World Championship/Main Event'), ('PageAndTeam', '2020 Season World Championship/Main Event_Suning')]), OrderedDict([('Year', '2020'), ('Team', 'Team Liquid'), ('Region', 'North America'), ('Name', 'Worlds 2020 Main Event'), ('OverviewPage', '2020 Season World Championship/Main Event'), ('PageAndTeam', '2020 Season World Championship/Main Event_Team Liquid')]), OrderedDict([('Year', '2020'), ('Team', 'Top Esports'), ('Region', 'China'), ('Name', 'Worlds 2020 Main Event'), ('OverviewPage', '2020 Season World Championship/Main Event'), ('PageAndTeam', '2020 Season World Championship/Main Event_Top Esports')]), OrderedDict([('Year', '2020'), ('Team', 'TSM'), ('Region', 'North America'), ('Name', 'Worlds 2020 Main Event'), ('OverviewPage', '2020 Season World Championship/Main Event'), ('PageAndTeam', '2020 Season World Championship/Main Event_TSM')]), OrderedDict([('Year', '2020'), ('Team', 'Unicorns of Love.CIS'), ('Region', 'CIS'), ('Name', 'Worlds 2020 Main Event'), ('OverviewPage', '2020 Season World Championship/Main Event'), ('PageAndTeam', '2020 Season World Championship/Main Event_Unicorns of Love.CIS')]), OrderedDict([('Year', '2020'), ('Team', 'INTZ'), ('Region', 'Brazil'), ('Name', 'Worlds 2020 Play-In'), ('OverviewPage', '2020 Season World Championship/Play-In'), ('PageAndTeam', '2020 Season World Championship/Play-In_INTZ')]), OrderedDict([('Year', '2020'), ('Team', 'Legacy Esports'), ('Region', 'Oceania'), ('Name', 'Worlds 2020 Play-In'), ('OverviewPage', '2020 Season World Championship/Play-In'), ('PageAndTeam', '2020 Season World Championship/Play-In_Legacy Esports')]), OrderedDict([('Year', '2020'), ('Team', 'LGD Gaming'), ('Region', 'China'), ('Name', 'Worlds 2020 Play-In'), ('OverviewPage', '2020 Season World Championship/Play-In'), ('PageAndTeam', '2020 Season World Championship/Play-In_LGD Gaming')]), OrderedDict([('Year', '2020'), ('Team', 'MAD Lions'), ('Region', 'EMEA'), ('Name', 'Worlds 2020 Play-In'), ('OverviewPage', '2020 Season World Championship/Play-In'), ('PageAndTeam', '2020 Season World Championship/Play-In_MAD Lions')]), OrderedDict([('Year', '2020'), ('Team', 'Papara SuperMassive'), ('Region', 'EMEA'), ('Name', 'Worlds 2020 Play-In'), ('OverviewPage', '2020 Season World Championship/Play-In'), ('PageAndTeam', '2020 Season World Championship/Play-In_Papara SuperMassive')]), OrderedDict([('Year', '2020'), ('Team', 'PSG Talon'), ('Region', 'PCS'), ('Name', 'Worlds 2020 Play-In'), ('OverviewPage', '2020 Season World Championship/Play-In'), ('PageAndTeam', '2020 Season World Championship/Play-In_PSG Talon')]), OrderedDict([('Year', '2020'), ('Team', 'Rainbow7'), ('Region', None), ('Name', 'Worlds 2020 Play-In'), ('OverviewPage', '2020 Season World Championship/Play-In'), ('PageAndTeam', '2020 Season World Championship/Play-In_Rainbow7')]), OrderedDict([('Year', '2020'), ('Team', 'Team Liquid'), ('Region', 'North America'), ('Name', 'Worlds 2020 Play-In'), ('OverviewPage', '2020 Season World Championship/Play-In'), ('PageAndTeam', '2020 Season World Championship/Play-In_Team Liquid')]), OrderedDict([('Year', '2020'), ('Team', 'Unicorns of Love.CIS'), ('Region', 'CIS'), ('Name', 'Worlds 2020 Play-In'), ('OverviewPage', '2020 Season World Championship/Play-In'), ('PageAndTeam', '2020 Season World Championship/Play-In_Unicorns of Love.CIS')]), OrderedDict([('Year', '2020'), ('Team', 'V3 Esports'), ('Region', 'Japan'), ('Name', 'Worlds 2020 Play-In'), ('OverviewPage', '2020 Season World Championship/Play-In'), ('PageAndTeam', '2020 Season World Championship/Play-In_V3 Esports')]), OrderedDict([('Year', '2021'), ('Team', '100 Thieves'), ('Region', 'North America'), ('Name', 'Worlds 2021 Main Event'), ('OverviewPage', '2021 Season World Championship/Main Event'), ('PageAndTeam', '2021 Season World Championship/Main Event_100 Thieves')]), OrderedDict([('Year', '2021'), ('Team', 'Cloud9'), ('Region', 'North America'), ('Name', 'Worlds 2021 Main Event'), ('OverviewPage', '2021 Season World Championship/Main Event'), ('PageAndTeam', '2021 Season World Championship/Main Event_Cloud9')]), OrderedDict([('Year', '2021'), ('Team', 'DetonatioN FocusMe'), ('Region', 'Japan'), ('Name', 'Worlds 2021 Main Event'), ('OverviewPage', '2021 Season World Championship/Main Event'), ('PageAndTeam', '2021 Season World Championship/Main Event_DetonatioN FocusMe')]), OrderedDict([('Year', '2021'), ('Team', 'DWG KIA'), ('Region', None), ('Name', 'Worlds 2021 Main Event'), ('OverviewPage', '2021 Season World Championship/Main Event'), ('PageAndTeam', '2021 Season World Championship/Main Event_DWG KIA')]), OrderedDict([('Year', '2021'), ('Team', 'EDward Gaming'), ('Region', 'China'), ('Name', 'Worlds 2021 Main Event'), ('OverviewPage', '2021 Season World Championship/Main Event'), ('PageAndTeam', '2021 Season World Championship/Main Event_EDward Gaming')]), OrderedDict([('Year', '2021'), ('Team', 'Fnatic'), ('Region', 'EMEA'), ('Name', 'Worlds 2021 Main Event'), ('OverviewPage', '2021 Season World Championship/Main Event'), ('PageAndTeam', '2021 Season World Championship/Main Event_Fnatic')]), OrderedDict([('Year', '2021'), ('Team', 'FunPlus Phoenix'), ('Region', 'China'), ('Name', 'Worlds 2021 Main Event'), ('OverviewPage', '2021 Season World Championship/Main Event'), ('PageAndTeam', '2021 Season World Championship/Main Event_FunPlus Phoenix')]), OrderedDict([('Year', '2021'), ('Team', 'Gen.G'), ('Region', 'Korea'), ('Name', 'Worlds 2021 Main Event'), ('OverviewPage', '2021 Season World Championship/Main Event'), ('PageAndTeam', '2021 Season World Championship/Main Event_Gen.G')]), OrderedDict([('Year', '2021'), ('Team', 'Hanwha Life Esports'), ('Region', 'Korea'), ('Name', 'Worlds 2021 Main Event'), ('OverviewPage', '2021 Season World Championship/Main Event'), ('PageAndTeam', '2021 Season World Championship/Main Event_Hanwha Life Esports')]), OrderedDict([('Year', '2021'), ('Team', 'LNG Esports'), ('Region', 'China'), ('Name', 'Worlds 2021 Main Event'), ('OverviewPage', '2021 Season World Championship/Main Event'), ('PageAndTeam', '2021 Season World Championship/Main Event_LNG Esports')]), OrderedDict([('Year', '2021'), ('Team', 'MAD Lions'), ('Region', 'EMEA'), ('Name', 'Worlds 2021 Main Event'), ('OverviewPage', '2021 Season World Championship/Main Event'), ('PageAndTeam', '2021 Season World Championship/Main Event_MAD Lions')]), OrderedDict([('Year', '2021'), ('Team', 'PSG Talon'), ('Region', 'PCS'), ('Name', 'Worlds 2021 Main Event'), ('OverviewPage', '2021 Season World Championship/Main Event'), ('PageAndTeam', '2021 Season World Championship/Main Event_PSG Talon')]), OrderedDict([('Year', '2021'), ('Team', 'Rogue (European Team)'), ('Region', None), ('Name', 'Worlds 2021 Main Event'), ('OverviewPage', '2021 Season World Championship/Main Event'), ('PageAndTeam', '2021 Season World Championship/Main Event_Rogue (European Team)')]), OrderedDict([('Year', '2021'), ('Team', 'Royal Never Give Up'), ('Region', 'China'), ('Name', 'Worlds 2021 Main Event'), ('OverviewPage', '2021 Season World Championship/Main Event'), ('PageAndTeam', '2021 Season World Championship/Main Event_Royal Never Give Up')]), OrderedDict([('Year', '2021'), ('Team', 'T1'), ('Region', 'Korea'), ('Name', 'Worlds 2021 Main Event'), ('OverviewPage', '2021 Season World Championship/Main Event'), ('PageAndTeam', '2021 Season World Championship/Main Event_T1')]), OrderedDict([('Year', '2021'), ('Team', 'Team Liquid'), ('Region', 'North America'), ('Name', 'Worlds 2021 Main Event'), ('OverviewPage', '2021 Season World Championship/Main Event'), ('PageAndTeam', '2021 Season World Championship/Main Event_Team Liquid')]), OrderedDict([('Year', '2021'), ('Team', 'Beyond Gaming'), ('Region', 'PCS'), ('Name', 'Worlds 2021 Play-In'), ('OverviewPage', '2021 Season World Championship/Play-In'), ('PageAndTeam', '2021 Season World Championship/Play-In_Beyond Gaming')]), OrderedDict([('Year', '2021'), ('Team', 'Cloud9'), ('Region', 'North America'), ('Name', 'Worlds 2021 Play-In'), ('OverviewPage', '2021 Season World Championship/Play-In'), ('PageAndTeam', '2021 Season World Championship/Play-In_Cloud9')]), OrderedDict([('Year', '2021'), ('Team', 'DetonatioN FocusMe'), ('Region', 'Japan'), ('Name', 'Worlds 2021 Play-In'), ('OverviewPage', '2021 Season World Championship/Play-In'), ('PageAndTeam', '2021 Season World Championship/Play-In_DetonatioN FocusMe')]), OrderedDict([('Year', '2021'), ('Team', 'Galatasaray Esports'), ('Region', 'Turkey'), ('Name', 'Worlds 2021 Play-In'), ('OverviewPage', '2021 Season World Championship/Play-In'), ('PageAndTeam', '2021 Season World Championship/Play-In_Galatasaray Esports')]), OrderedDict([('Year', '2021'), ('Team', 'Hanwha Life Esports'), ('Region', 'Korea'), ('Name', 'Worlds 2021 Play-In'), ('OverviewPage', '2021 Season World Championship/Play-In'), ('PageAndTeam', '2021 Season World Championship/Play-In_Hanwha Life Esports')]), OrderedDict([('Year', '2021'), ('Team', 'INFINITY'), ('Region', 'Latin America'), ('Name', 'Worlds 2021 Play-In'), ('OverviewPage', '2021 Season World Championship/Play-In'), ('PageAndTeam', '2021 Season World Championship/Play-In_INFINITY')]), OrderedDict([('Year', '2021'), ('Team', 'LNG Esports'), ('Region', 'China'), ('Name', 'Worlds 2021 Play-In'), ('OverviewPage', '2021 Season World Championship/Play-In'), ('PageAndTeam', '2021 Season World Championship/Play-In_LNG Esports')]), OrderedDict([('Year', '2021'), ('Team', 'PEACE (Oceanic Team)'), ('Region', None), ('Name', 'Worlds 2021 Play-In'), ('OverviewPage', '2021 Season World Championship/Play-In'), ('PageAndTeam', '2021 Season World Championship/Play-In_PEACE (Oceanic Team)')]), OrderedDict([('Year', '2021'), ('Team', 'RED Canids'), ('Region', 'Brazil'), ('Name', 'Worlds 2021 Play-In'), ('OverviewPage', '2021 Season World Championship/Play-In'), ('PageAndTeam', '2021 Season World Championship/Play-In_RED Canids')]), OrderedDict([('Year', '2021'), ('Team', 'Unicorns of Love.CIS'), ('Region', 'CIS'), ('Name', 'Worlds 2021 Play-In'), ('OverviewPage', '2021 Season World Championship/Play-In'), ('PageAndTeam', '2021 Season World Championship/Play-In_Unicorns of Love.CIS')]), OrderedDict([('Year', '2022'), ('Team', '100 Thieves'), ('Region', 'North America'), ('Name', 'Worlds 2022 Main Event'), ('OverviewPage', '2022 Season World Championship/Main Event'), ('PageAndTeam', '2022 Season World Championship/Main Event_100 Thieves')]), OrderedDict([('Year', '2022'), ('Team', 'Cloud9'), ('Region', 'North America'), ('Name', 'Worlds 2022 Main Event'), ('OverviewPage', '2022 Season World Championship/Main Event'), ('PageAndTeam', '2022 Season World Championship/Main Event_Cloud9')]), OrderedDict([('Year', '2022'), ('Team', 'CTBC Flying Oyster'), ('Region', 'PCS'), ('Name', 'Worlds 2022 Main Event'), ('OverviewPage', '2022 Season World Championship/Main Event'), ('PageAndTeam', '2022 Season World Championship/Main Event_CTBC Flying Oyster')]), OrderedDict([('Year', '2022'), ('Team', 'DRX'), ('Region', 'Korea'), ('Name', 'Worlds 2022 Main Event'), ('OverviewPage', '2022 Season World Championship/Main Event'), ('PageAndTeam', '2022 Season World Championship/Main Event_DRX')]), OrderedDict([('Year', '2022'), ('Team', 'DWG KIA'), ('Region', None), ('Name', 'Worlds 2022 Main Event'), ('OverviewPage', '2022 Season World Championship/Main Event'), ('PageAndTeam', '2022 Season World Championship/Main Event_DWG KIA')]), OrderedDict([('Year', '2022'), ('Team', 'EDward Gaming'), ('Region', 'China'), ('Name', 'Worlds 2022 Main Event'), ('OverviewPage', '2022 Season World Championship/Main Event'), ('PageAndTeam', '2022 Season World Championship/Main Event_EDward Gaming')]), OrderedDict([('Year', '2022'), ('Team', 'Evil Geniuses.NA'), ('Region', None), ('Name', 'Worlds 2022 Main Event'), ('OverviewPage', '2022 Season World Championship/Main Event'), ('PageAndTeam', '2022 Season World Championship/Main Event_Evil Geniuses.NA')]), OrderedDict([('Year', '2022'), ('Team', 'Fnatic'), ('Region', 'EMEA'), ('Name', 'Worlds 2022 Main Event'), ('OverviewPage', '2022 Season World Championship/Main Event'), ('PageAndTeam', '2022 Season World Championship/Main Event_Fnatic')]), OrderedDict([('Year', '2022'), ('Team', 'G2 Esports'), ('Region', 'EMEA'), ('Name', 'Worlds 2022 Main Event'), ('OverviewPage', '2022 Season World Championship/Main Event'), ('PageAndTeam', '2022 Season World Championship/Main Event_G2 Esports')]), OrderedDict([('Year', '2022'), ('Team', 'GAM Esports'), ('Region', 'Vietnam'), ('Name', 'Worlds 2022 Main Event'), ('OverviewPage', '2022 Season World Championship/Main Event'), ('PageAndTeam', '2022 Season World Championship/Main Event_GAM Esports')]), OrderedDict([('Year', '2022'), ('Team', 'Gen.G'), ('Region', 'Korea'), ('Name', 'Worlds 2022 Main Event'), ('OverviewPage', '2022 Season World Championship/Main Event'), ('PageAndTeam', '2022 Season World Championship/Main Event_Gen.G')]), OrderedDict([('Year', '2022'), ('Team', 'JD Gaming'), ('Region', 'China'), ('Name', 'Worlds 2022 Main Event'), ('OverviewPage', '2022 Season World Championship/Main Event'), ('PageAndTeam', '2022 Season World Championship/Main Event_JD Gaming')]), OrderedDict([('Year', '2022'), ('Team', 'Rogue (European Team)'), ('Region', None), ('Name', 'Worlds 2022 Main Event'), ('OverviewPage', '2022 Season World Championship/Main Event'), ('PageAndTeam', '2022 Season World Championship/Main Event_Rogue (European Team)')]), OrderedDict([('Year', '2022'), ('Team', 'Royal Never Give Up'), ('Region', 'China'), ('Name', 'Worlds 2022 Main Event'), ('OverviewPage', '2022 Season World Championship/Main Event'), ('PageAndTeam', '2022 Season World Championship/Main Event_Royal Never Give Up')]), OrderedDict([('Year', '2022'), ('Team', 'T1'), ('Region', 'Korea'), ('Name', 'Worlds 2022 Main Event'), ('OverviewPage', '2022 Season World Championship/Main Event'), ('PageAndTeam', '2022 Season World Championship/Main Event_T1')]), OrderedDict([('Year', '2022'), ('Team', 'Top Esports'), ('Region', 'China'), ('Name', 'Worlds 2022 Main Event'), ('OverviewPage', '2022 Season World Championship/Main Event'), ('PageAndTeam', '2022 Season World Championship/Main Event_Top Esports')]), OrderedDict([('Year', '2022'), ('Team', 'Beyond Gaming'), ('Region', 'PCS'), ('Name', 'Worlds 2022 Play-In'), ('OverviewPage', '2022 Season World Championship/Play-In'), ('PageAndTeam', '2022 Season World Championship/Play-In_Beyond Gaming')]), OrderedDict([('Year', '2022'), ('Team', 'Chiefs Esports Club'), ('Region', 'PCS'), ('Name', 'Worlds 2022 Play-In'), ('OverviewPage', '2022 Season World Championship/Play-In'), ('PageAndTeam', '2022 Season World Championship/Play-In_Chiefs Esports Club')]), OrderedDict([('Year', '2022'), ('Team', 'DetonatioN FocusMe'), ('Region', 'Japan'), ('Name', 'Worlds 2022 Play-In'), ('OverviewPage', '2022 Season World Championship/Play-In'), ('PageAndTeam', '2022 Season World Championship/Play-In_DetonatioN FocusMe')]), OrderedDict([('Year', '2022'), ('Team', 'DRX'), ('Region', 'Korea'), ('Name', 'Worlds 2022 Play-In'), ('OverviewPage', '2022 Season World Championship/Play-In'), ('PageAndTeam', '2022 Season World Championship/Play-In_DRX')]), OrderedDict([('Year', '2022'), ('Team', 'Evil Geniuses.NA'), ('Region', None), ('Name', 'Worlds 2022 Play-In'), ('OverviewPage', '2022 Season World Championship/Play-In'), ('PageAndTeam', '2022 Season World Championship/Play-In_Evil Geniuses.NA')]), OrderedDict([('Year', '2022'), ('Team', 'Fnatic'), ('Region', 'EMEA'), ('Name', 'Worlds 2022 Play-In'), ('OverviewPage', '2022 Season World Championship/Play-In'), ('PageAndTeam', '2022 Season World Championship/Play-In_Fnatic')]), OrderedDict([('Year', '2022'), ('Team', 'Istanbul Wildcats'), ('Region', 'EMEA'), ('Name', 'Worlds 2022 Play-In'), ('OverviewPage', '2022 Season World Championship/Play-In'), ('PageAndTeam', '2022 Season World Championship/Play-In_Istanbul Wildcats')]), OrderedDict([('Year', '2022'), ('Team', 'Isurus'), ('Region', 'Latin America'), ('Name', 'Worlds 2022 Play-In'), ('OverviewPage', '2022 Season World Championship/Play-In'), ('PageAndTeam', '2022 Season World Championship/Play-In_Isurus')]), OrderedDict([('Year', '2022'), ('Team', 'LOUD'), ('Region', 'Brazil'), ('Name', 'Worlds 2022 Play-In'), ('OverviewPage', '2022 Season World Championship/Play-In'), ('PageAndTeam', '2022 Season World Championship/Play-In_LOUD')]), OrderedDict([('Year', '2022'), ('Team', 'MAD Lions'), ('Region', 'EMEA'), ('Name', 'Worlds 2022 Play-In'), ('OverviewPage', '2022 Season World Championship/Play-In'), ('PageAndTeam', '2022 Season World Championship/Play-In_MAD Lions')]), OrderedDict([('Year', '2022'), ('Team', 'Royal Never Give Up'), ('Region', 'China'), ('Name', 'Worlds 2022 Play-In'), ('OverviewPage', '2022 Season World Championship/Play-In'), ('PageAndTeam', '2022 Season World Championship/Play-In_Royal Never Give Up')]), OrderedDict([('Year', '2022'), ('Team', 'Saigon Buffalo'), ('Region', 'Vietnam'), ('Name', 'Worlds 2022 Play-In'), ('OverviewPage', '2022 Season World Championship/Play-In'), ('PageAndTeam', '2022 Season World Championship/Play-In_Saigon Buffalo')]), OrderedDict([('Year', '2023'), ('Team', 'Bilibili Gaming'), ('Region', 'China'), ('Name', 'Worlds 2023 Main Event'), ('OverviewPage', '2023 Season World Championship/Main Event'), ('PageAndTeam', '2023 Season World Championship/Main Event_Bilibili Gaming')]), OrderedDict([('Year', '2023'), ('Team', 'Cloud9'), ('Region', 'North America'), ('Name', 'Worlds 2023 Main Event'), ('OverviewPage', '2023 Season World Championship/Main Event'), ('PageAndTeam', '2023 Season World Championship/Main Event_Cloud9')]), OrderedDict([('Year', '2023'), ('Team', 'G2 Esports'), ('Region', 'EMEA'), ('Name', 'Worlds 2023 Main Event'), ('OverviewPage', '2023 Season World Championship/Main Event'), ('PageAndTeam', '2023 Season World Championship/Main Event_G2 Esports')]), OrderedDict([('Year', '2023'), ('Team', 'Gen.G'), ('Region', 'Korea'), ('Name', 'Worlds 2023 Main Event'), ('OverviewPage', '2023 Season World Championship/Main Event'), ('PageAndTeam', '2023 Season World Championship/Main Event_Gen.G')]), OrderedDict([('Year', '2023'), ('Team', 'JD Gaming'), ('Region', 'China'), ('Name', 'Worlds 2023 Main Event'), ('OverviewPage', '2023 Season World Championship/Main Event'), ('PageAndTeam', '2023 Season World Championship/Main Event_JD Gaming')]), OrderedDict([('Year', '2023'), ('Team', 'LNG Esports'), ('Region', 'China'), ('Name', 'Worlds 2023 Main Event'), ('OverviewPage', '2023 Season World Championship/Main Event'), ('PageAndTeam', '2023 Season World Championship/Main Event_LNG Esports')]), OrderedDict([('Year', '2023'), ('Team', 'MAD Lions'), ('Region', 'EMEA'), ('Name', 'Worlds 2023 Main Event'), ('OverviewPage', '2023 Season World Championship/Main Event'), ('PageAndTeam', '2023 Season World Championship/Main Event_MAD Lions')]), OrderedDict([('Year', '2023'), ('Team', 'NRG'), ('Region', 'North America'), ('Name', 'Worlds 2023 Main Event'), ('OverviewPage', '2023 Season World Championship/Main Event'), ('PageAndTeam', '2023 Season World Championship/Main Event_NRG')]), OrderedDict([('Year', '2023'), ('Team', 'T1'), ('Region', 'Korea'), ('Name', 'Worlds 2023 Main Event'), ('OverviewPage', '2023 Season World Championship/Main Event'), ('PageAndTeam', '2023 Season World Championship/Main Event_T1')]), OrderedDict([('Year', '2023'), ('Team', 'TBD'), ('Region', None), ('Name', 'Worlds 2023 Main Event'), ('OverviewPage', '2023 Season World Championship/Main Event'), ('PageAndTeam', '2023 Season World Championship/Main Event_TBD')]), OrderedDict([('Year', '2023'), ('Team', 'TBD'), ('Region', None), ('Name', 'Worlds 2023 Main Event'), ('OverviewPage', '2023 Season World Championship/Main Event'), ('PageAndTeam', '2023 Season World Championship/Main Event_TBD')]), OrderedDict([('Year', '2023'), ('Team', 'TBD'), ('Region', None), ('Name', 'Worlds 2023 Main Event'), ('OverviewPage', '2023 Season World Championship/Main Event'), ('PageAndTeam', '2023 Season World Championship/Main Event_TBD')]), OrderedDict([('Year', '2023'), ('Team', 'TBD'), ('Region', None), ('Name', 'Worlds 2023 Main Event'), ('OverviewPage', '2023 Season World Championship/Main Event'), ('PageAndTeam', '2023 Season World Championship/Main Event_TBD')]), OrderedDict([('Year', '2023'), ('Team', 'TBD'), ('Region', None), ('Name', 'Worlds 2023 Main Event'), ('OverviewPage', '2023 Season World Championship/Main Event'), ('PageAndTeam', '2023 Season World Championship/Main Event_TBD')]), OrderedDict([('Year', '2023'), ('Team', 'Team Liquid'), ('Region', 'North America'), ('Name', 'Worlds 2023 Main Event'), ('OverviewPage', '2023 Season World Championship/Main Event'), ('PageAndTeam', '2023 Season World Championship/Main Event_Team Liquid')]), OrderedDict([('Year', '2023'), ('Team', 'Weibo Gaming'), ('Region', 'China'), ('Name', 'Worlds 2023 Main Event'), ('OverviewPage', '2023 Season World Championship/Main Event'), ('PageAndTeam', '2023 Season World Championship/Main Event_Weibo Gaming')]), OrderedDict([('Year', '2023'), ('Team', 'DetonatioN FocusMe'), ('Region', 'Japan'), ('Name', 'Worlds 2023 Play-In'), ('OverviewPage', '2023 Season World Championship/Play-In'), ('PageAndTeam', '2023 Season World Championship/Play-In_DetonatioN FocusMe')]), OrderedDict([('Year', '2023'), ('Team', 'TBD'), ('Region', None), ('Name', 'Worlds 2023 Play-In'), ('OverviewPage', '2023 Season World Championship/Play-In'), ('PageAndTeam', '2023 Season World Championship/Play-In_TBD')]), OrderedDict([('Year', '2023'), ('Team', 'TBD'), ('Region', None), ('Name', 'Worlds 2023 Play-In'), ('OverviewPage', '2023 Season World Championship/Play-In'), ('PageAndTeam', '2023 Season World Championship/Play-In_TBD')]), OrderedDict([('Year', '2023'), ('Team', 'TBD'), ('Region', None), ('Name', 'Worlds 2023 Play-In'), ('OverviewPage', '2023 Season World Championship/Play-In'), ('PageAndTeam', '2023 Season World Championship/Play-In_TBD')]), OrderedDict([('Year', '2023'), ('Team', 'TBD'), ('Region', None), ('Name', 'Worlds 2023 Play-In'), ('OverviewPage', '2023 Season World Championship/Play-In'), ('PageAndTeam', '2023 Season World Championship/Play-In_TBD')]), OrderedDict([('Year', '2023'), ('Team', 'TBD'), ('Region', None), ('Name', 'Worlds 2023 Play-In'), ('OverviewPage', '2023 Season World Championship/Play-In'), ('PageAndTeam', '2023 Season World Championship/Play-In_TBD')]), OrderedDict([('Year', '2023'), ('Team', 'TBD'), ('Region', None), ('Name', 'Worlds 2023 Play-In'), ('OverviewPage', '2023 Season World Championship/Play-In'), ('PageAndTeam', '2023 Season World Championship/Play-In_TBD')]), OrderedDict([('Year', '2023'), ('Team', 'TBD'), ('Region', None), ('Name', 'Worlds 2023 Play-In'), ('OverviewPage', '2023 Season World Championship/Play-In'), ('PageAndTeam', '2023 Season World Championship/Play-In_TBD')]), OrderedDict([('Year', '2023'), ('Team', 'Golden Guardians'), ('Region', 'North America'), ('Name', 'Worlds Qualifying Series 2023'), ('OverviewPage', '2023 Worlds Qualifying Series'), ('PageAndTeam', '2023 Worlds Qualifying Series_Golden Guardians')]), OrderedDict([('Year', '2023'), ('Team', 'TBD'), ('Region', None), ('Name', 'Worlds Qualifying Series 2023'), ('OverviewPage', '2023 Worlds Qualifying Series'), ('PageAndTeam', '2023 Worlds Qualifying Series_TBD')])]\n"
     ]
    }
   ],
   "source": [
    "print (response)"
   ]
  },
  {
   "cell_type": "code",
   "execution_count": 5,
   "metadata": {},
   "outputs": [
    {
     "data": {
      "text/html": [
       "<div>\n",
       "<style scoped>\n",
       "    .dataframe tbody tr th:only-of-type {\n",
       "        vertical-align: middle;\n",
       "    }\n",
       "\n",
       "    .dataframe tbody tr th {\n",
       "        vertical-align: top;\n",
       "    }\n",
       "\n",
       "    .dataframe thead th {\n",
       "        text-align: right;\n",
       "    }\n",
       "</style>\n",
       "<table border=\"1\" class=\"dataframe\">\n",
       "  <thead>\n",
       "    <tr style=\"text-align: right;\">\n",
       "      <th></th>\n",
       "      <th>Year</th>\n",
       "      <th>Team</th>\n",
       "      <th>Region</th>\n",
       "      <th>Name</th>\n",
       "      <th>OverviewPage</th>\n",
       "      <th>PageAndTeam</th>\n",
       "    </tr>\n",
       "  </thead>\n",
       "  <tbody>\n",
       "    <tr>\n",
       "      <th>0</th>\n",
       "      <td>2017</td>\n",
       "      <td>ahq eSports Club</td>\n",
       "      <td>PCS</td>\n",
       "      <td>Worlds 2017 Main Event</td>\n",
       "      <td>2017 Season World Championship/Main Event</td>\n",
       "      <td>2017 Season World Championship/Main Event_ahq ...</td>\n",
       "    </tr>\n",
       "    <tr>\n",
       "      <th>1</th>\n",
       "      <td>2017</td>\n",
       "      <td>Cloud9</td>\n",
       "      <td>North America</td>\n",
       "      <td>Worlds 2017 Main Event</td>\n",
       "      <td>2017 Season World Championship/Main Event</td>\n",
       "      <td>2017 Season World Championship/Main Event_Cloud9</td>\n",
       "    </tr>\n",
       "    <tr>\n",
       "      <th>2</th>\n",
       "      <td>2017</td>\n",
       "      <td>EDward Gaming</td>\n",
       "      <td>China</td>\n",
       "      <td>Worlds 2017 Main Event</td>\n",
       "      <td>2017 Season World Championship/Main Event</td>\n",
       "      <td>2017 Season World Championship/Main Event_EDwa...</td>\n",
       "    </tr>\n",
       "    <tr>\n",
       "      <th>3</th>\n",
       "      <td>2017</td>\n",
       "      <td>Fenerbahçe Esports</td>\n",
       "      <td>Turkey</td>\n",
       "      <td>Worlds 2017 Main Event</td>\n",
       "      <td>2017 Season World Championship/Main Event</td>\n",
       "      <td>2017 Season World Championship/Main Event_Fene...</td>\n",
       "    </tr>\n",
       "    <tr>\n",
       "      <th>4</th>\n",
       "      <td>2017</td>\n",
       "      <td>Flash Wolves</td>\n",
       "      <td>LMS</td>\n",
       "      <td>Worlds 2017 Main Event</td>\n",
       "      <td>2017 Season World Championship/Main Event</td>\n",
       "      <td>2017 Season World Championship/Main Event_Flas...</td>\n",
       "    </tr>\n",
       "  </tbody>\n",
       "</table>\n",
       "</div>"
      ],
      "text/plain": [
       "   Year                Team         Region                    Name  \\\n",
       "0  2017    ahq eSports Club            PCS  Worlds 2017 Main Event   \n",
       "1  2017              Cloud9  North America  Worlds 2017 Main Event   \n",
       "2  2017       EDward Gaming          China  Worlds 2017 Main Event   \n",
       "3  2017  Fenerbahçe Esports         Turkey  Worlds 2017 Main Event   \n",
       "4  2017        Flash Wolves            LMS  Worlds 2017 Main Event   \n",
       "\n",
       "                                OverviewPage  \\\n",
       "0  2017 Season World Championship/Main Event   \n",
       "1  2017 Season World Championship/Main Event   \n",
       "2  2017 Season World Championship/Main Event   \n",
       "3  2017 Season World Championship/Main Event   \n",
       "4  2017 Season World Championship/Main Event   \n",
       "\n",
       "                                         PageAndTeam  \n",
       "0  2017 Season World Championship/Main Event_ahq ...  \n",
       "1   2017 Season World Championship/Main Event_Cloud9  \n",
       "2  2017 Season World Championship/Main Event_EDwa...  \n",
       "3  2017 Season World Championship/Main Event_Fene...  \n",
       "4  2017 Season World Championship/Main Event_Flas...  "
      ]
     },
     "execution_count": 5,
     "metadata": {},
     "output_type": "execute_result"
    }
   ],
   "source": [
    "df = pd.DataFrame(response)\n",
    "#df['Year'].unique().tolist()\n",
    "teams =df['Team'].unique().tolist()\n",
    "df.head()\n"
   ]
  },
  {
   "cell_type": "code",
   "execution_count": 6,
   "metadata": {},
   "outputs": [],
   "source": [
    "str_teams = '{}'.format(\", \".join([f\"'{team}'\" for team in teams]))"
   ]
  },
  {
   "cell_type": "code",
   "execution_count": 7,
   "metadata": {},
   "outputs": [],
   "source": [
    "matchs = site.cargo_client.query(\n",
    "    tables=\"MatchSchedule =m\",    \n",
    "    fields=\"m.Team1Final,m.Team2Final\",\n",
    "    #join_on=\"Tr.OverviewPage=T.OverviewPage, Tr.Team=Tm.Name\",    \n",
    "    where=\"m.Team1Final IN ({}) or m.Team2Final IN ({})\".format(str_teams,str_teams)\n",
    "    #order_by=\"T.Name,T.OverviewPage,Tr.Team\"\n",
    ")"
   ]
  },
  {
   "cell_type": "code",
   "execution_count": 9,
   "metadata": {},
   "outputs": [
    {
     "data": {
      "text/html": [
       "<div>\n",
       "<style scoped>\n",
       "    .dataframe tbody tr th:only-of-type {\n",
       "        vertical-align: middle;\n",
       "    }\n",
       "\n",
       "    .dataframe tbody tr th {\n",
       "        vertical-align: top;\n",
       "    }\n",
       "\n",
       "    .dataframe thead th {\n",
       "        text-align: right;\n",
       "    }\n",
       "</style>\n",
       "<table border=\"1\" class=\"dataframe\">\n",
       "  <thead>\n",
       "    <tr style=\"text-align: right;\">\n",
       "      <th></th>\n",
       "      <th>Team1Final</th>\n",
       "      <th>Team2Final</th>\n",
       "    </tr>\n",
       "  </thead>\n",
       "  <tbody>\n",
       "    <tr>\n",
       "      <th>0</th>\n",
       "      <td>00 Nation</td>\n",
       "      <td>TBD</td>\n",
       "    </tr>\n",
       "    <tr>\n",
       "      <th>1</th>\n",
       "      <td>100 Thieves</td>\n",
       "      <td>Cloud9</td>\n",
       "    </tr>\n",
       "    <tr>\n",
       "      <th>2</th>\n",
       "      <td>100 Thieves</td>\n",
       "      <td>Cloud9</td>\n",
       "    </tr>\n",
       "    <tr>\n",
       "      <th>3</th>\n",
       "      <td>100 Thieves</td>\n",
       "      <td>Cloud9</td>\n",
       "    </tr>\n",
       "    <tr>\n",
       "      <th>4</th>\n",
       "      <td>100 Thieves</td>\n",
       "      <td>Cloud9</td>\n",
       "    </tr>\n",
       "  </tbody>\n",
       "</table>\n",
       "</div>"
      ],
      "text/plain": [
       "    Team1Final Team2Final\n",
       "0    00 Nation        TBD\n",
       "1  100 Thieves     Cloud9\n",
       "2  100 Thieves     Cloud9\n",
       "3  100 Thieves     Cloud9\n",
       "4  100 Thieves     Cloud9"
      ]
     },
     "execution_count": 9,
     "metadata": {},
     "output_type": "execute_result"
    }
   ],
   "source": [
    "df2 = pd.DataFrame(matchs)\n",
    "df2.head()"
   ]
  }
 ],
 "metadata": {
  "kernelspec": {
   "display_name": "lolpred",
   "language": "python",
   "name": "python3"
  },
  "language_info": {
   "codemirror_mode": {
    "name": "ipython",
    "version": 3
   },
   "file_extension": ".py",
   "mimetype": "text/x-python",
   "name": "python",
   "nbconvert_exporter": "python",
   "pygments_lexer": "ipython3",
   "version": "3.11.4"
  },
  "orig_nbformat": 4
 },
 "nbformat": 4,
 "nbformat_minor": 2
}
